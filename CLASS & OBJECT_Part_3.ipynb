{
  "nbformat": 4,
  "nbformat_minor": 0,
  "metadata": {
    "colab": {
      "name": "DQLab Part 3.ipynb",
      "provenance": [],
      "authorship_tag": "ABX9TyOx5THE6yVKWgYllWi3sbYE",
      "include_colab_link": true
    },
    "kernelspec": {
      "name": "python3",
      "display_name": "Python 3"
    },
    "language_info": {
      "name": "python"
    }
  },
  "cells": [
    {
      "cell_type": "markdown",
      "metadata": {
        "id": "view-in-github",
        "colab_type": "text"
      },
      "source": [
        "<a href=\"https://colab.research.google.com/github/krlnggrn/EVERY-DAY-MUST-CODING-10/blob/main/CLASS%20%26%20OBJECT_Part_3.ipynb\" target=\"_parent\"><img src=\"https://colab.research.google.com/assets/colab-badge.svg\" alt=\"Open In Colab\"/></a>"
      ]
    },
    {
      "cell_type": "markdown",
      "source": [
        "#Class dan Objects"
      ],
      "metadata": {
        "id": "-vK4mmeiZhPx"
      }
    },
    {
      "cell_type": "markdown",
      "source": [
        "## class attribute"
      ],
      "metadata": {
        "id": "W4Vh3jJPaEn5"
      }
    },
    {
      "cell_type": "code",
      "execution_count": 1,
      "metadata": {
        "colab": {
          "base_uri": "https://localhost:8080/"
        },
        "id": "g410FCtuck32",
        "outputId": "e2f0fe1f-42e5-4cc1-e29e-afdacd69429a"
      },
      "outputs": [
        {
          "output_type": "stream",
          "name": "stdout",
          "text": [
            "ABC\n"
          ]
        }
      ],
      "source": [
        "class Karyawan:\n",
        "  nama_perusahaan = 'ABC'\n",
        "aksara = Karyawan()\n",
        "senja = Karyawan()\n",
        "print(aksara.__class__.nama_perusahaan)"
      ]
    },
    {
      "cell_type": "markdown",
      "source": [
        "![image.png](data:image/png;base64,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)"
      ],
      "metadata": {
        "id": "wHgKQ7jthaQx"
      }
    },
    {
      "cell_type": "code",
      "source": [
        "class Karyawan:\n",
        "  nama_perusahaan = 'ABC'\n",
        "aksara = Karyawan()\n",
        "senja = Karyawan()\n",
        "aksara.__class__.nama_perusahaan = 'DEF'\n",
        "print(aksara.__class__.nama_perusahaan)"
      ],
      "metadata": {
        "colab": {
          "base_uri": "https://localhost:8080/"
        },
        "id": "ZsqcjyFChVO9",
        "outputId": "ad8601ca-f4e8-479d-a1fd-6c368de0fd27"
      },
      "execution_count": 2,
      "outputs": [
        {
          "output_type": "stream",
          "name": "stdout",
          "text": [
            "DEF\n"
          ]
        }
      ]
    },
    {
      "cell_type": "markdown",
      "source": [
        "## Instance attribute"
      ],
      "metadata": {
        "id": "EFtQlXvsiTzI"
      }
    },
    {
      "cell_type": "code",
      "source": [
        "class Karyawan:\n",
        "  nama_perusahaan = 'ABC'\n",
        "  def __init__(self, nama, usia, pendapatan):\n",
        "    self.nama = nama\n",
        "    self.usia = usia\n",
        "    self.pendapatan = pendapatan\n",
        "aksara = Karyawan('Aksaran', 25, 8500000)\n",
        "senja = Karyawan('Senja', 28, 12500000)\n",
        "print(aksara.nama + ', Usia: ' + str(aksara.usia) + ', Pendapatan ' + str(aksara.pendapatan))\n",
        "print(senja.nama + ', Usia: ' + str(senja.usia) + ', Pendapatan ' + str(senja.pendapatan))"
      ],
      "metadata": {
        "colab": {
          "base_uri": "https://localhost:8080/"
        },
        "id": "6DMEAmFCiWHb",
        "outputId": "c863497d-09a2-4f5a-f033-dda59775f3e3"
      },
      "execution_count": 3,
      "outputs": [
        {
          "output_type": "stream",
          "name": "stdout",
          "text": [
            "Aksaran, Usia: 25, Pendapatan 8500000\n",
            "Senja, Usia: 28, Pendapatan 12500000\n"
          ]
        }
      ]
    },
    {
      "cell_type": "markdown",
      "source": [
        "Quiz"
      ],
      "metadata": {
        "id": "q9f8PIozk7B7"
      }
    },
    {
      "cell_type": "code",
      "source": [
        "class Karyawan:\n",
        "  nama_perusahaan = 'ABC'\n",
        "  def __init__(self, nama, usia, pendapatan):\n",
        "    self.nama = nama\n",
        "    self.usia = usia\n",
        "    self.pendapatan = pendapatan\n",
        "    if usia > 30:\n",
        "      self.pendapatan +=1500000\n",
        "    \n",
        "    karyawan_1 = Karyawan('Budi', 35, 7500000)\n",
        "    karyawan_2 = Karyawan('Didi', 30, 8000000)\n",
        "    \n",
        "    total_pengeluaran = karyawan_1.pendapatan + karyawan_2.pendapatan\n",
        "    print(total_pengeluaran)"
      ],
      "metadata": {
        "id": "6k9pXOook8Kb"
      },
      "execution_count": 4,
      "outputs": []
    },
    {
      "cell_type": "markdown",
      "source": [
        "## Behavior pada Class"
      ],
      "metadata": {
        "id": "c_kbkchgaW4_"
      }
    },
    {
      "cell_type": "markdown",
      "source": [
        "Behavior\n",
        "to do: utk menghitung pendapatan tambahan dari jumlah kerja lembur dan jumlah proyek yang diselesaikan oleh seorang karyawan dan mengakses pendapatan total dari seorang karyawan"
      ],
      "metadata": {
        "id": "z5Db_2qqnIWZ"
      }
    },
    {
      "cell_type": "markdown",
      "source": [
        "ini unsupprt += why???"
      ],
      "metadata": {
        "id": "6TgIJ439phFz"
      }
    },
    {
      "cell_type": "code",
      "source": [
        "class Karyawan:\n",
        "  nama_perusahaan = 'ABC'\n",
        "  insentif_lembur = '250000'\n",
        "  def __init__(self, nama, usia, pendapatan):\n",
        "    self.nama = nama\n",
        "    self.usia = usia\n",
        "    self.pendapatan = pendapatan\n",
        "    self.pendapatan_tambahan = 0\n",
        "  def lembur(self):\n",
        "    self.pendapatan_tambahan += self.insentif_lembur\n",
        "  def tambahan_proyek(self, insentif_proyek):\n",
        "    self.pendapatan_tambahan += insentif_proyek\n",
        "  def total_pendapatan(self):\n",
        "    return self.pendapatan + self.pendapatan_tambahan\n",
        "aksara = Karyawan('Aksara', 25, 8500000)\n",
        "senja = Karyawan('Senja', 28, 12500000)\n",
        "\n",
        "#utk menambahkan lembur, dgn fungsi lembur\n",
        "aksara.lembur()\n",
        "\n",
        "#tambahan pendapatan proyek\n",
        "senja.tambahan_proyek(2500000)\n",
        "\n",
        "#hitung total pendapatan aksara dan senja\n",
        "print('Pendapatan Total Aksara:' + str(aksara.total_pendapatan()))\n",
        "print('Pendapatan Total Senja:' +str(senja.total_pendapatan()))"
      ],
      "metadata": {
        "id": "piP50EIwGeHs"
      },
      "execution_count": null,
      "outputs": []
    },
    {
      "cell_type": "code",
      "source": [
        "class Karyawan:\n",
        "    nama_perusahaan = 'ABC'\n",
        "    insentif_lembur = 250000\n",
        "    def __init__(self, nama, usia, pendapatan):\n",
        "        self.nama = nama\n",
        "        self.usia = usia\n",
        "        self.pendapatan = pendapatan\n",
        "        self.pendapatan_tambahan = 0\n",
        "    def lembur(self):\n",
        "        self.pendapatan_tambahan += self.insentif_lembur\n",
        "    def tambahan_proyek(self, insentif_proyek):\n",
        "    \tself.pendapatan_tambahan += insentif_proyek\n",
        "    def total_pendapatan(self):\n",
        "    \treturn self.pendapatan + self.pendapatan_tambahan\n",
        "# Buat object dari karwayan bernama Aksara dan Senja\n",
        "aksara = Karyawan('Aksara', 25, 8500000)\n",
        "senja = Karyawan('Senja', 28, 12500000)\n",
        "# Aksara melaksanakan lembur\n",
        "aksara.lembur()\n",
        "# Senja memiliki proyek tambahan\n",
        "senja.tambahan_proyek(2500000)\n",
        "# Cetak pendapatan total Aksara dan Senja\n",
        "print('Pendapatan Total Aksara: ' + str(aksara.total_pendapatan()))\n",
        "print('Pendapatan Total Senja: ' +str(senja.total_pendapatan()))"
      ],
      "metadata": {
        "colab": {
          "base_uri": "https://localhost:8080/"
        },
        "id": "lS2oq6AIqCiB",
        "outputId": "75eea646-2936-46d0-ac73-f70ed7ecab17"
      },
      "execution_count": 6,
      "outputs": [
        {
          "output_type": "stream",
          "name": "stdout",
          "text": [
            "Pendapatan Total Aksara: 8750000\n",
            "Pendapatan Total Senja: 15000000\n"
          ]
        }
      ]
    },
    {
      "cell_type": "markdown",
      "source": [
        "#Tugas Praktik"
      ],
      "metadata": {
        "id": "r-y2K98DqvmM"
      }
    },
    {
      "cell_type": "markdown",
      "source": [
        "Buat sistem manajemen perusahaan pakai OO (Object Oriented)\n",
        "1. informasi nama, alamat, nomor telepon, daftar karyawan\n",
        "2. masukan fungsi utk mengaktifkan dan menonaktifkan karyawan\n",
        "3. buat pendapatan mula-mula 0, bisa ditambahkan fungsi lembur dan fungsi tambahan proyek sbg parameter dan variabel pendapatan tambahan karyawan."
      ],
      "metadata": {
        "id": "ge_wp8sXqycy"
      }
    },
    {
      "cell_type": "code",
      "source": [
        "#Definisikan class Karyawan\n",
        "class Karyawan:\n",
        "    def __init__(self, nama, usia, pendapatan, insentif_lembur): \n",
        "        self.nama = nama\n",
        "        self.usia = usia\n",
        "        self.pendapatan = pendapatan \n",
        "        self.pendapatan_tambahan = 0\n",
        "        self.insentif_lembur = insentif_lembur\n",
        "    def lembur(self):\n",
        "        self.pendapatan_tambahan += self.insentif_lembur \n",
        "    def tambahan_proyek(self, jumlah_tambahan):\n",
        "        self.pendapatan_tambahan += jumlah_tambahan \n",
        "    def total_pendapatan(self):\n",
        "        return self.pendapatan + self.pendapatan_tambahan\n",
        "#Definisikan class Perusahaan\n",
        "class Perusahaan:\n",
        "    def __init__(self, nama, alamat, nomor_telepon): \n",
        "        self.nama = nama\n",
        "        self.alamat = alamat \n",
        "        self.nomor_telepon = nomor_telepon\n",
        "        self.list_karyawan = []\n",
        "    def aktifkan_karyawan(self, karyawan): \n",
        "        self.list_karyawan.append(karyawan)\n",
        "    def nonaktifkan_karyawan(self, nama_karyawan): \n",
        "        karyawan_nonaktif = None\n",
        "        for karyawan in self.list_karyawan:\n",
        "            if karyawan.nama == nama_karyawan: \n",
        "                karyawan_nonaktif = karyawan \n",
        "                break\n",
        "        if karyawan_nonaktif is not None: \n",
        "            self.list_karyawan.remove(karyawan_nonaktif)"
      ],
      "metadata": {
        "id": "FdI6KywmqnGy"
      },
      "execution_count": 7,
      "outputs": []
    },
    {
      "cell_type": "markdown",
      "source": [
        "![image.png](data:image/png;base64,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)"
      ],
      "metadata": {
        "id": "hlmRLD1Pvbia"
      }
    },
    {
      "cell_type": "code",
      "source": [
        "#Definisikan perusahaan\n",
        "perusahaan = Perusahaan('ABC', 'Jl. Jendral Sudirman, Blok 11', '(021) 95205XX')\n",
        "#Definisikan nama-nama karyawan\n",
        "karyawan_1 = Karyawan('Ani', 25, 8500000, 100000)\n",
        "karyawan_2 = Karyawan('Budi', 28, 12000000, 150000)\n",
        "karyawan_3 = Karyawan('Cici', 30, 15000000, 200000)\n",
        "#Aktifkan karyawan di perusahaan ABC\n",
        "perusahaan.aktifkan_karyawan(karyawan_1)\n",
        "perusahaan.aktifkan_karyawan(karyawan_2)\n",
        "perusahaan.aktifkan_karyawan(karyawan_3)"
      ],
      "metadata": {
        "id": "U9VZTJT2vR8m"
      },
      "execution_count": 8,
      "outputs": []
    },
    {
      "cell_type": "markdown",
      "source": [
        "# Encapsulation"
      ],
      "metadata": {
        "id": "TeW-DVGww52M"
      }
    },
    {
      "cell_type": "markdown",
      "source": [
        "bisa membuat public access dan private access\n",
        "- spt contoh dibawah: perusahaan = pblic access, dan nama pribadi=provate access>> saat dirun akan error\n",
        ">> kode: di OneNote"
      ],
      "metadata": {
        "id": "umP_FsU3w9LN"
      }
    },
    {
      "cell_type": "markdown",
      "source": [
        "#Inheritance"
      ],
      "metadata": {
        "id": "AfZ8foe8xoCP"
      }
    },
    {
      "cell_type": "markdown",
      "source": [
        "inheritance = kemampuan utk membentuk class baru yg punya fungsi turunan/kemiripan dgn fungsi sebelumnya\n",
        "> semakin jauh turunan/subclass maka semakin sedikit kemiripan fungsinya."
      ],
      "metadata": {
        "id": "N4ljnpnURhJq"
      }
    },
    {
      "cell_type": "markdown",
      "source": [
        "dari code dibawha melakukan inheritance = menurunkan seluruh atribut dan fungsi dari class karyawan - ke class analisdata"
      ],
      "metadata": {
        "id": "dws1p3YZSFux"
      }
    },
    {
      "cell_type": "code",
      "source": [
        "# Definisikan class Karyawan (sebagai base class)\n",
        "class Karyawan: \n",
        "    nama_perusahaan = 'ABC' \n",
        "    insentif_lembur = 250000\n",
        "    def __init__(self, nama, usia, pendapatan): \n",
        "        self.nama = nama\n",
        "        self.usia = usia \n",
        "        self.pendapatan = pendapatan \n",
        "        self.pendapatan_tambahan = 0\n",
        "    def lembur(self):\n",
        "        self.pendapatan_tambahan += self.insentif_lembur \n",
        "    def tambahan_proyek(self, insentif_proyek):\n",
        "        self.pendapatan_tambahan += insentif_proyek \n",
        "    def total_pendapatan(self):\n",
        "        return self.pendapatan + self.pendapatan_tambahan\n",
        "# Buat class turunan (sebagai inherit class) dari class karyawan, \n",
        "# yaitu class AnalisData\n",
        "class AnalisData(Karyawan):\n",
        "    def __init__(self, nama, usia, pendapatan):\n",
        "    # melakukan pemanggilan konstruktur class Karyawan \n",
        "        super().__init__(nama, usia, pendapatan)\n",
        "# Buat kembali class turunan (sebagai inherit class) dari class karyawan,  \n",
        "# yaitu class IlmuwanData\n",
        "class IlmuwanData(Karyawan):\n",
        "    def __init__(self, nama, usia, pendapatan):\n",
        "        # melakukan pemanggilan konstruktur class Karyawan \n",
        "        super().__init__(nama, usia, pendapatan)\n",
        "# Buat objek karyawan yang bekerja sebagai AnalisData\n",
        "aksara = AnalisData('Aksara', 25, 8500000)\n",
        "aksara.tambahan_proyek(2000000)\n",
        "print(aksara.total_pendapatan())\n",
        "# Buat objek karyawan yang bekerja sebagai IlmuwanData\n",
        "senja = IlmuwanData('Senja', 28, 13000000)\n",
        "senja.lembur()\n",
        "print(senja.total_pendapatan())"
      ],
      "metadata": {
        "colab": {
          "base_uri": "https://localhost:8080/"
        },
        "id": "8xkQ4nWJw8BD",
        "outputId": "3153c79a-ef3b-4b02-a7cf-74e506de5abd"
      },
      "execution_count": 9,
      "outputs": [
        {
          "output_type": "stream",
          "name": "stdout",
          "text": [
            "10500000\n",
            "13250000\n"
          ]
        }
      ]
    },
    {
      "cell_type": "markdown",
      "source": [
        "# Polymorphism & Overloading"
      ],
      "metadata": {
        "id": "FyJWdI0hUqI3"
      }
    },
    {
      "cell_type": "markdown",
      "source": [
        "polymorphism = konsep dmn suatu objek yg berbeda2 dpt diakses melalu interface yg sama."
      ],
      "metadata": {
        "id": "qZBNCKxSUslP"
      }
    },
    {
      "cell_type": "code",
      "source": [
        "# Definisikan class Karyawan (sebagai base class)\n",
        "class Karyawan: \n",
        "    nama_perusahaan = 'ABC' \n",
        "    insentif_lembur = 250000\n",
        "    def __init__(self, nama, usia, pendapatan): \n",
        "        self.nama = nama\n",
        "        self.usia = usia \n",
        "        self.pendapatan = pendapatan \n",
        "        self.pendapatan_tambahan = 0\n",
        "    def lembur(self):\n",
        "        self.pendapatan_tambahan += self.insentif_lembur \n",
        "    def tambahan_proyek(self, insentif_proyek):\n",
        "        self.pendapatan_tambahan += insentif_proyek \n",
        "    def total_pendapatan(self):\n",
        "        return self.pendapatan + self.pendapatan_tambahan"
      ],
      "metadata": {
        "id": "l50hdD1lVIiK"
      },
      "execution_count": 10,
      "outputs": []
    },
    {
      "cell_type": "markdown",
      "source": [
        "melakukan pemanggilan konstruktur class Karyawan, menerapkan polymorphism dengan mendefinisikan kembali fungsi lembur() pada AnalisData, dan menambahkan 10% tambahan pendapatan pada class AnalisData"
      ],
      "metadata": {
        "id": "Uh57ous_VyRl"
      }
    },
    {
      "cell_type": "code",
      "source": [
        "#polymorphism\n",
        "class AnalisData(Karyawan):\n",
        "  def __init__(self, nama, usia, pendapatan):\n",
        "      super().__init__(nama, usia, pendapatan)\n",
        "  def lembur(self):\n",
        "      self.pendapatan_tambahan += int(self.pendapatan * 0.1)"
      ],
      "metadata": {
        "id": "YKid9WBCV2Op"
      },
      "execution_count": 11,
      "outputs": []
    },
    {
      "cell_type": "markdown",
      "source": [
        "fungsi lembur() pada objek aksara sebagai bagian dari class AnalisData akan menambahkan(+) total_pendapatan milik objek sebesar 850000 (10% dari pendapatannya) mengikuti definisi dari fungsi lembur() pada class AnalisData"
      ],
      "metadata": {
        "id": "G_QmUOSoV2ul"
      }
    },
    {
      "cell_type": "code",
      "source": [
        "aksara = AnalisData('Aksara', 25, 8500000)\n",
        "aksara.lembur()\n",
        "print(aksara.total_pendapatan())"
      ],
      "metadata": {
        "colab": {
          "base_uri": "https://localhost:8080/"
        },
        "id": "w1z3fiTaV4kM",
        "outputId": "edb76a88-4c84-4915-e0a8-3350c9f1e017"
      },
      "execution_count": 12,
      "outputs": [
        {
          "output_type": "stream",
          "name": "stdout",
          "text": [
            "9350000\n"
          ]
        }
      ]
    },
    {
      "cell_type": "markdown",
      "source": [
        "Pada konsep inheritance, melalui fungsi super(), selain dapat mengakses constructor milik parent class, child class juga dapat mengakses atribut/fungsi yang dimiliki oleh parent class."
      ],
      "metadata": {
        "id": "Rpcwi9WfWYFb"
      }
    },
    {
      "cell_type": "code",
      "source": [
        "# Definisikan class Karyawan (sebagai base class)\n",
        "class Karyawan: \n",
        "    nama_perusahaan = 'ABC' \n",
        "    insentif_lembur = 250000\n",
        "    def __init__(self, nama, usia, pendapatan): \n",
        "        self.nama = nama\n",
        "        self.usia = usia \n",
        "        self.pendapatan = pendapatan \n",
        "        self.pendapatan_tambahan = 0\n",
        "    def lembur(self):\n",
        "        self.pendapatan_tambahan += self.insentif_lembur \n",
        "    def tambahan_proyek(self, insentif_proyek):\n",
        "        self.pendapatan_tambahan += insentif_proyek \n",
        "    def total_pendapatan(self):\n",
        "        return self.pendapatan + self.pendapatan_tambahan\n",
        "\n",
        "#ambil dr fungsi/attribute parent class\n",
        "class AnalisData(Karyawan):\n",
        "  def __init__(self, nama, usia, pendapatan):\n",
        "      super().__init__(nama, usia, pendapatan)\n",
        "  def lembur(self):\n",
        "      super().lembur()\n",
        "      self.pendapatan_tambahan += int(self.pendapatan * 0.05)\n",
        "aksara = AnalisData('Aksara', 25, 8500000)\n",
        "aksara.lembur()\n",
        "print(aksara.total_pendapatan())"
      ],
      "metadata": {
        "colab": {
          "base_uri": "https://localhost:8080/"
        },
        "id": "azrL62g8WZFv",
        "outputId": "2d1acd87-b086-45d3-a081-9228671954c1"
      },
      "execution_count": 13,
      "outputs": [
        {
          "output_type": "stream",
          "name": "stdout",
          "text": [
            "9175000\n"
          ]
        }
      ]
    },
    {
      "cell_type": "markdown",
      "source": [
        "Karyawan tanaga lepas dpt insentif dari dari proyek yg dikerjakan. klo hasilnya sukses bisa dpt 1% dr nilai proyek"
      ],
      "metadata": {
        "id": "G1nKlsriXxkz"
      }
    },
    {
      "cell_type": "code",
      "source": [
        "#Definisikan class Karyawan\n",
        "class Karyawan:\n",
        "    def __init__(self, nama, usia, pendapatan, insentif_lembur): \n",
        "        self.nama = nama\n",
        "        self.usia = usia \n",
        "        self.pendapatan = pendapatan \n",
        "        self.pendapatan_tambahan = 0\n",
        "        self.insentif_lembur = insentif_lembur \n",
        "    def lembur(self):\n",
        "        self.pendapatan_tambahan += self.insentif_lembur \n",
        "    def tambahan_proyek(self,jumlah_tambahan):\n",
        "        self.pendapatan_tambahan += jumlah_tambahan \n",
        "    def total_pendapatan(self):\n",
        "        return self.pendapatan + \tself.pendapatan_tambahan\n",
        "#Definisikan class TenagaLepas sebagai child class dari\n",
        "#class Karyawan\n",
        "class TenagaLepas(Karyawan):\n",
        "    def __init__(self, nama, usia, pendapatan):\n",
        "        super().__init__(nama, usia, pendapatan, 0)\n",
        "    def tambahan_proyek(self, nilai_proyek):\n",
        "        self.pendapatan_tambahan += int(nilai_proyek * 0.01)"
      ],
      "metadata": {
        "id": "RXeO_NaGYBiT"
      },
      "execution_count": 14,
      "outputs": []
    },
    {
      "cell_type": "markdown",
      "source": [
        "“Masih ngurusin proyek Tenaga Lepas. Ini baru dapat rikues lagi untuk nambahin class yang merepresentasikan masing-masing pekerjaan di divisi ini.”\n",
        "\n",
        "“Hmm, kamu pakai konsep inherintance saja, akan lebih mudah,” saran Senja sebelum pulang. Sejujurnya, aku juga mau pulang. Teringat kasur di rumah yang siap untuk rebahan. Kalau begitu, pekerjaan ini harus cepat diselesaikan.\n",
        "\n",
        "Di divisiku ada empat bidang pekerjaan, mulai dari analisis data, ilmuwan data, pembersih data, dan dokumenter teknis. Setiap peran punya sistem penerimaan fee yang berbeda. Ini yang bikin rumit. Misalnya, ilmuwan data akan mendapat insentif tambahan sebesar 10% dari proyek yang dikerjakan, dan dokumenter teknis adalah satu-satunya peran yang tidak menerima insentif dari proyek.\n",
        "\n",
        "Oke, tenang. Ini pasti bisa, tinggal masukkin saja variabelnya satu persatu. Semangat! batinku sembari ditemani suara abang nasi goreng yang menjajakan makanannya."
      ],
      "metadata": {
        "id": "yU3P1owNOZTx"
      }
    },
    {
      "cell_type": "code",
      "source": [
        "# Definisikan class AnalisData sebagai child class dari\n",
        "# class Karyawan\n",
        "class AnalisData(Karyawan): \n",
        "    pass\n",
        "# Definisikan class IlmuwanData sebagai child class dari\n",
        "# class Karyawan\n",
        "class IlmuwanData(Karyawan):\n",
        "    def tambahan_proyek(self, nilai_proyek): \n",
        "        self.pendapatan_tambahan += 0.1 * nilai_proyek \n",
        "# Definisikan class PembersihData sebagai child class dari   \n",
        "# class TenagaLepas\n",
        "class PembersihData(TenagaLepas): \n",
        "    pass\n",
        "# Definisikan class DokumenterTeknis sebagai child class dari\n",
        "# class TenagaLepas\n",
        "class DokumenterTeknis(TenagaLepas):\n",
        "    def tambahan_proyek(self, jumlah_tambahan): \n",
        "        return"
      ],
      "metadata": {
        "id": "xEC_d4DHOOf0"
      },
      "execution_count": 15,
      "outputs": []
    },
    {
      "cell_type": "markdown",
      "source": [
        "Tugas Praktek\n",
        "Perusahaan ABC memiliki 3 orang karyawan baru seperti yang diberikan dalam tabel berikut:\n",
        "\n",
        "Nama\tUsia\tPendapatan\n",
        "Budi\t?\t?\n",
        "Didi\t25\t?\n",
        "Hadi\t?\t8000000\n",
        "Aku di minta untuk mengisi tabel dengan detail sebagai berikut:\n",
        "\n",
        "Budi berusia 21 dan pendapatan = 5000000\n",
        "Didi berusia 25 dan pendapatan = 5000000\n",
        "Hadi berusia 21 dan pendapatan = 8000000"
      ],
      "metadata": {
        "id": "f3XP-aU8OsFr"
      }
    },
    {
      "cell_type": "code",
      "source": [
        "class Karyawan: \n",
        "    nama_perusahaan = 'ABC' \n",
        "    insentif_lembur = 250000\n",
        "    # usia akan di-set nilainya menjadi 21 saat tidak\n",
        "    # dispesifikasikan dan pendapatan akan di-set nilainya\n",
        "    # menjadi 5000000 saat tidak dispesifikasikan\n",
        "    def __init__(self, nama, usia=21, pendapatan=5000000): \n",
        "        self.nama = nama\n",
        "        self.usia = usia\n",
        "        self.pendapatan = pendapatan\n",
        "        self.pendapatan_tambahan = 0\n",
        "    def lembur(self):\n",
        "        self.pendapatan_tambahan += self.insentif_lembur \n",
        "    def tambahan_proyek(self, insentif_proyek):\n",
        "        self.pendapatan_tambahan += insentif_proyek \n",
        "    def total_pendapatan(self):\n",
        "        return self.pendapatan + self.pendapatan_tambahan\n",
        "# Karyawan baru pertama yang bernama Budi\n",
        "karyawan_baru1 = Karyawan('Budi')\n",
        "print(karyawan_baru1.nama)\n",
        "print(karyawan_baru1.usia)\n",
        "print(karyawan_baru1.total_pendapatan())\n",
        "# Karyawan baru ke-2 yang bernama Didi, umur 25\n",
        "karyawan_baru2 = Karyawan('Didi', 25)\n",
        "print(karyawan_baru2.nama)\n",
        "print(karyawan_baru2.usia)\n",
        "print(karyawan_baru2.total_pendapatan())\n",
        "# Karyawan baru ke-3 yang bernama Hadi, pendapatan 8000000\n",
        "karyawan_baru3 = Karyawan('Hadi', pendapatan=8000000)\n",
        "print(karyawan_baru3.nama)\n",
        "print(karyawan_baru3.usia)\n",
        "print(karyawan_baru3.total_pendapatan())"
      ],
      "metadata": {
        "id": "aQgHNtgoOr0h"
      },
      "execution_count": null,
      "outputs": []
    },
    {
      "cell_type": "markdown",
      "source": [
        "Studi Kasus \n",
        "\n",
        "Di perusahaan ini, seorang analis data yang masuk umumnya berusia 21, memiliki pendapatan senilai 6.500.000 dan insentif lembur senilai 100.000. Kemudian, untuk seorang ilmuwan data yang masuk umumnya berusia 25, memiliki pendapatan senilai 12.000.000, dan insentif lembur senilai 150.000. Di sisi lain, untuk tenaga lepas, hanya terdapat pendapatan umum senilai 4.000.000 untuk pembersih data dan 2.500.000 untuk dokumenter teknis. \n",
        "\n",
        "Berikut adalah data perusahaan beserta detail karyawan yang bekerja.\n",
        "\n",
        "Nama Perusahaan: ABC\n",
        "\n",
        "Alamat                  : Jl. Jendral Sudirman, Blok 11\n",
        "\n",
        "Telepon                 : (021) 95812XX\n",
        "\n",
        "Nama\n",
        "\n",
        "Usia\n",
        "\n",
        "Pekerjaan\n",
        "\n",
        "Pendapatan\n",
        "\n",
        "Ani\n",
        "\n",
        "25\n",
        "\n",
        "Pembersih Data\n",
        "\n",
        "-\n",
        "\n",
        "Budi\n",
        "\n",
        "18\n",
        "\n",
        "Dokumenter Teknis\n",
        "\n",
        "-\n",
        "\n",
        "Cici\n",
        "\n",
        "-\n",
        "\n",
        "Ilmuwan Data\n",
        "\n",
        "-\n",
        "\n",
        "Didi\n",
        "\n",
        "32\n",
        "\n",
        "Ilmuwan Data\n",
        "\n",
        "20000000\n",
        "\n",
        "Efi\n",
        "\n",
        "-\n",
        "\n",
        "Analis Data\n",
        "\n",
        "-\n",
        "\n",
        "Febi\n",
        "\n",
        "28\n",
        "\n",
        "Analis Data\n",
        "\n",
        "12000000\n",
        "\n",
        "Note: saat usia/pendapatan kosong maka usia/pendapatan mengikuti standar perusahaan.\n",
        "\n",
        "“Dengan kasus ini, berarti di akhir aku harus mencetak total pengeluaran perusahaan untuk menguji kelancaranku dalam menerapkan OOP dengan Python nih,” gumamku sambil berkutat pada baris-baris kode di code editor.\n",
        "\n",
        "Tugas:\n",
        "Simulasikan dengan program yang telah dibuat.\n",
        "Cetak total pengeluaran yang dimiliki perusahaan untuk menguji fungsionalitas konsep dan teknik polymorphism yang diterapkan.\n",
        " "
      ],
      "metadata": {
        "id": "i94jNvKnQDyg"
      }
    },
    {
      "cell_type": "code",
      "source": [
        "# Definisikan class Karyawan sebagai parent class\n",
        "class Karyawan:\n",
        "    def __init__(self, nama, usia, pendapatan, insentif_lembur):\n",
        "        self.nama = nama\n",
        "        self.usia = usia\n",
        "        self.pendapatan = pendapatan \n",
        "        self.pendapatan_tambahan = 0\n",
        "        self.insentif_lembur = insentif_lembur\n",
        "    def lembur(self):\n",
        "        self.pendapatan_tambahan += self.insentif_lembur\n",
        "    def tambahan_proyek(self,jumlah_tambahan):\n",
        "        self.pendapatan_tambahan += jumlah_tambahan \n",
        "    def total_pendapatan(self):\n",
        "        return self.pendapatan + self.pendapatan_tambahan  \n",
        "\n",
        "# Definisikan class TenagaLepas sebagai child class dari class Karyawan \n",
        "class TenagaLepas(Karyawan):\n",
        "    def __init__(self, nama, usia, pendapatan): \n",
        "        super().__init__(nama, usia, pendapatan, 0)\n",
        "    def tambahan_proyek(self, nilai_proyek): \n",
        "        self.pendapatan_tambahan += nilai_proyek * 0.01\n",
        "\n",
        "# Definisikan class AnalisData sebagai child class dari class Karyawan \n",
        "class AnalisData(Karyawan):\n",
        "    def __init__(self, nama, usia = 21, pendapatan = 6500000, \n",
        "                 insentif_lembur = 100000):\n",
        "        super().__init__(nama, usia, pendapatan, insentif_lembur) \n",
        "\n",
        "# Definisikan class IlmuwanData sebagai child class dari class Karyawan\n",
        "class IlmuwanData(Karyawan):\n",
        "    def __init__(self, nama, usia = 25, pendapatan = 12000000, \n",
        "                 insentif_lembur = 150000):\n",
        "        super().__init__(nama, usia, pendapatan, insentif_lembur) \n",
        "    def tambahan_proyek(self, nilai_proyek):\n",
        "        self.pendapatan_tambahan += 0.1 * nilai_proyek\n",
        "\n",
        "# Definisikan class PembersihData sebagai child class dari class TenagaLepas\n",
        "class PembersihData(TenagaLepas):\n",
        "    def __init__(self, nama, usia, pendapatan = 4000000): \n",
        "        super().__init__(nama, usia, pendapatan)\n",
        "\n",
        "# Definisikan class DokumenterTeknis sebagai child class dari class TenagaLepas\n",
        "class DokumenterTeknis(TenagaLepas):\n",
        "    def __init__(self, nama, usia, pendapatan = 2500000): \n",
        "        super().__init__(nama, usia, pendapatan)\n",
        "\n",
        "# Definisikan class Perusahaan \n",
        "class Perusahaan:\n",
        "    def __init__(self, nama, alamat, nomor_telepon): \n",
        "        self.nama = nama\n",
        "        self.alamat = alamat \n",
        "        self.nomor_telepon = nomor_telepon \n",
        "        self.list_karyawan = []\n",
        "    def aktifkan_karyawan(self, karyawan): \n",
        "        self.list_karyawan.append(karyawan)\n",
        "    def nonaktifkan_karyawan(self, nama_karyawan): \n",
        "        karyawan_nonaktif = None\n",
        "        for karyawan in self.list_karyawan:\n",
        "            if karyawan.nama == nama_karyawan: \n",
        "                karyawan_nonaktif = karyawan\n",
        "                break\n",
        "        if karyawan_nonaktif is not None: \n",
        "            self.list_karyawan.remove(karyawan_nonaktif)\n",
        "    def total_pengeluaran(self): \n",
        "        pengeluaran = 0\n",
        "        for karyawan in self.list_karyawan:\n",
        "            pengeluaran += karyawan.total_pendapatan()\n",
        "        return pengeluaran\n",
        "    def cari_karyawan(self, nama_karyawan): \n",
        "        for karyawan in self.list_karyawan:\n",
        "            if karyawan.nama == nama_karyawan: \n",
        "                return karyawan\n",
        "        return None\n",
        "\n",
        "# Create object karyawan sesuai dengan tugasnya masing-masing\n",
        "# seperti yang dinyatakan dalam tabel.\n",
        "ani = PembersihData('Ani',25)\n",
        "budi = DokumenterTeknis('Budi',18)\n",
        "cici = IlmuwanData('Cici')\n",
        "didi = IlmuwanData('Didi',32,20000000)\n",
        "efi = AnalisData('Efi')\n",
        "febi = AnalisData('Febi',28,12000000)\n",
        "\n",
        "# Create object perusahaan\n",
        "perusahaan = Perusahaan('ABC', 'Jl. Jendral Sudirman, Blok 11', '(021) 95812XX')\n",
        "\n",
        "# Aktifkan setiap karyawan yang telah didefinisikan\n",
        "perusahaan.aktifkan_karyawan(ani)\n",
        "perusahaan.aktifkan_karyawan(budi)\n",
        "perusahaan.aktifkan_karyawan(cici)\n",
        "perusahaan.aktifkan_karyawan(didi)\n",
        "perusahaan.aktifkan_karyawan(efi)\n",
        "perusahaan.aktifkan_karyawan(febi)\n",
        "\n",
        "# Cetak keseluruhan total pengeluaran perusahaan\n",
        "print(perusahaan.total_pengeluaran())"
      ],
      "metadata": {
        "colab": {
          "base_uri": "https://localhost:8080/"
        },
        "id": "QXk-nATkP1Y4",
        "outputId": "de3c7b08-fd8d-445d-83b2-b807ae28d2e9"
      },
      "execution_count": 16,
      "outputs": [
        {
          "output_type": "stream",
          "name": "stdout",
          "text": [
            "57000000\n"
          ]
        }
      ]
    }
  ]
}